{
 "cells": [
  {
   "cell_type": "markdown",
   "metadata": {},
   "source": [
    "# *UTS*\n",
    "## Machine Learning\n",
    "\n",
    "<img src=\"https://upload.wikimedia.org/wikipedia/commons/6/68/LOGO_UEU_BY_ASU-06.png\" width=50% height=50%>\n",
    "\n",
    "<table style=\"width:75%\">\n",
    "  <tr>\n",
    "    <td><b>Dosen Pengampu</b></td>\n",
    "    <td>Jefry Sunupurwa Asri , S.Kom., M.Kom.</td>\n",
    "   </tr>\n",
    "  <tr>\n",
    "    <td><b>Mahasiswa</b></td>\n",
    "    <td>Anisa Riska Septiyana</td>\n",
    "  </tr>\n",
    "  <tr>\n",
    "    <td><b>NIM</b></td>\n",
    "    <td>20210801446</td>\n",
    "  </tr>\n",
    "</table>"
   ]
  },
  {
   "cell_type": "code",
   "execution_count": null,
   "metadata": {},
   "outputs": [],
   "source": [
    "# SOAL STUDI KASUS : (50 Poin) \n",
    "\n",
    "1)\tSempurnakan Data Set \n",
    "Universitas Esa Unggul memiliki detail mahasiswa sebagai berikut : \n",
    "Ani, Budi, Joni, Jono dan Lono \n",
    "Setiap mahasiswa dating ke kampus mulai dari hari senin sampai minggu \n",
    "Untuk melakukan kegiatan kuliah \n",
    "Ani menghabiskan biaya 30000 dikampus setiap datang \n",
    "Budi menghabiskan biaya 35000 dikampus setiap datang \n",
    "Joni menghabiskan biaya 20000 dikampus setiap datang \n",
    "Jono 25000 dan Lono 15000 \n",
    "HARI \tDATANG \tBIAYA \tMAHASISWA \n",
    "Senin \t2 \t30000x2 \tAni \n",
    "Selasa \t3 \t35000x3 \tBudi \n",
    "Rabu \t4 \t25000x4 \tJono \n",
    "Kamis \t1 \t15000x1 \tLono \n",
    "Jumat \t2 \t20000x2 \tJoni \n",
    "Sabtu \t5 \t30000x5 \tAni \n",
    "Minggu \t2 \t35000x2 \tBudi \n",
    " \n",
    "a)\tBerapa rata-rata mahasiswa datang pada minggu ini? \n",
    "b)\tKapan biaya tertinggi terjadi ? \n",
    "c)\tHari apa biaya lebih dari 110000? \n",
    "d)\tSiapa yang paling banyak datang ke kampus? \n",
    "e)\tSiapa yang datang pada hari minggu? \n",
    "f)\tBerapa biaya tertinggi dan terendah? \n",
    "g)\tBerapa frekuensi datang tertinggi dan terendah? \n",
    " \n",
    "2)\tLengkapi source code dibawah Berikut fakultas <- c(\"Bisnis\", \"D3 Perhotelan\", \"ICT\", \"Ilmu Komunikasi\", \"Seni dan Desain\") jumlah_mahasiswa <- c(260, 28, 284, 465, 735) \n",
    "akreditasi <- c(\"A\",\"A\",\"B\",\"A\",\"A\") \n",
    " \n",
    "info_mahasiswa <- data.frame(fakultas, jumlah_mahasiswa, akreditasi) info_mahasiswa \n",
    " \n",
    "gambar <- ggplot(info_mahasiswa, aes(x=fakultas, y=jumlah_mahasiswa, fill=fakultas)) gambar <- gambar + geom_bar(width=1, stat=\"identity\") gambar \n",
    " \n"
   ]
  },
  {
   "cell_type": "code",
   "execution_count": 1,
   "metadata": {},
   "outputs": [],
   "source": [
    "# Import library yang dibutuhkan\n",
    "import pandas as pd\n",
    "\n",
    "# Definisikan data set\n",
    "data = {\n",
    "    \"hari\": [\"Senin\", \"Selasa\", \"Rabu\", \"Kamis\", \"Jumat\", \"Sabtu\", \"Minggu\"],\n",
    "    \"datang\": [2, 3, 4, 1, 2, 5, 2],\n",
    "    \"biaya\": [2 * 30000, 3 * 35000, 4 * 25000, 1 * 15000, 2 * 20000, 5 * 30000, 2 * 35000],\n",
    "    \"mahasiswa\": [\"Ani\", \"Budi\", \"Jono\", \"Lono\", \"Jono\", \"Ani\", \"Budi\"],\n",
    "}\n",
    "\n",
    "# Buat DataFrame\n",
    "df = pd.DataFrame(data)\n"
   ]
  },
  {
   "cell_type": "markdown",
   "metadata": {},
   "source": [
    "# Jawab pertanyaan 1\n",
    "\n",
    "# a) Berapa rata-rata mahasiswa datang pada minggu ini?"
   ]
  },
  {
   "cell_type": "code",
   "execution_count": 2,
   "metadata": {},
   "outputs": [
    {
     "name": "stdout",
     "output_type": "stream",
     "text": [
      "Rata-rata mahasiswa datang pada minggu ini: 2.7142857142857144\n"
     ]
    }
   ],
   "source": [
    "print(\"Rata-rata mahasiswa datang pada minggu ini:\", df[\"datang\"].mean())"
   ]
  },
  {
   "cell_type": "markdown",
   "metadata": {},
   "source": [
    "# b) Kapan biaya tertinggi terjadi ?"
   ]
  },
  {
   "cell_type": "code",
   "execution_count": 3,
   "metadata": {},
   "outputs": [
    {
     "name": "stdout",
     "output_type": "stream",
     "text": [
      "Biaya tertinggi terjadi pada hari: Sabtu\n"
     ]
    }
   ],
   "source": [
    "print(\"Biaya tertinggi terjadi pada hari:\", df[\"hari\"][df[\"biaya\"] == df[\"biaya\"].max()].item());"
   ]
  },
  {
   "cell_type": "markdown",
   "metadata": {},
   "source": [
    "# c) Hari apa biaya lebih dari 110000?"
   ]
  },
  {
   "cell_type": "code",
   "execution_count": 4,
   "metadata": {},
   "outputs": [
    {
     "name": "stdout",
     "output_type": "stream",
     "text": [
      "Hari apa biaya lebih dari 110000: Sabtu\n"
     ]
    }
   ],
   "source": [
    "print(\"Hari apa biaya lebih dari 110000:\", df[\"hari\"][df[\"biaya\"] > 110000].item())\n"
   ]
  },
  {
   "cell_type": "markdown",
   "metadata": {},
   "source": [
    "# d) Siapa yang paling banyak datang ke kampus?"
   ]
  },
  {
   "cell_type": "code",
   "execution_count": 5,
   "metadata": {},
   "outputs": [
    {
     "name": "stdout",
     "output_type": "stream",
     "text": [
      "Mahasiswa yang paling banyak datang ke kampus: Ani\n"
     ]
    }
   ],
   "source": [
    "print(\"Mahasiswa yang paling banyak datang ke kampus:\", df[\"mahasiswa\"][df[\"datang\"].max()])\n"
   ]
  },
  {
   "cell_type": "markdown",
   "metadata": {},
   "source": [
    "# e) Siapa yang datang pada hari minggu?"
   ]
  },
  {
   "cell_type": "code",
   "execution_count": 6,
   "metadata": {},
   "outputs": [
    {
     "name": "stdout",
     "output_type": "stream",
     "text": [
      "Mahasiswa yang datang pada hari minggu: Budi\n"
     ]
    }
   ],
   "source": [
    "print(\"Mahasiswa yang datang pada hari minggu:\", df[\"mahasiswa\"][df[\"hari\"] == \"Minggu\"].item())"
   ]
  },
  {
   "cell_type": "markdown",
   "metadata": {},
   "source": [
    "# f) Berapa biaya tertinggi dan terendah?"
   ]
  },
  {
   "cell_type": "code",
   "execution_count": 7,
   "metadata": {},
   "outputs": [
    {
     "name": "stdout",
     "output_type": "stream",
     "text": [
      "Biaya tertinggi: 150000\n",
      "Biaya terendah: 15000\n"
     ]
    }
   ],
   "source": [
    "print(\"Biaya tertinggi:\", df[\"biaya\"].max())\n",
    "print(\"Biaya terendah:\", df[\"biaya\"].min())"
   ]
  },
  {
   "cell_type": "markdown",
   "metadata": {},
   "source": [
    "# g) Berapa frekuensi datang tertinggi dan terendah?"
   ]
  },
  {
   "cell_type": "code",
   "execution_count": 8,
   "metadata": {},
   "outputs": [
    {
     "name": "stdout",
     "output_type": "stream",
     "text": [
      "Frekuensi datang tertinggi: 5\n",
      "Frekuensi datang terendah: 1\n"
     ]
    }
   ],
   "source": [
    "print(\"Frekuensi datang tertinggi:\", df[\"datang\"].max())\n",
    "print(\"Frekuensi datang terendah:\", df[\"datang\"].min())"
   ]
  },
  {
   "cell_type": "markdown",
   "metadata": {},
   "source": [
    "# Jawaban Pertanyaan 2"
   ]
  },
  {
   "cell_type": "code",
   "execution_count": 9,
   "metadata": {},
   "outputs": [
    {
     "data": {
      "image/png": "[encoded data removed]",
      "text/plain": [
       "<Figure size 640x480 with 1 Axes>"
      ]
     },
     "metadata": {},
     "output_type": "display_data"
    }
   ],
   "source": [
    "import pandas as pd\n",
    "import matplotlib.pyplot as plt\n",
    "\n",
    "# Definisikan data set\n",
    "fakultas = [\"Bisnis\", \"D3 Perhotelan\", \"ICT\", \"ILKom\", \"Seni&Desain\"]\n",
    "jumlah_mahasiswa = [260, 28, 284, 465, 735]\n",
    "akreditasi = [\"A\", \"A\", \"B\", \"A\", \"A\"]\n",
    "info_mahasiswa = pd.DataFrame({\n",
    "    \"fakultas\": fakultas,\n",
    "    \"jumlah_mahasiswa\": jumlah_mahasiswa,\n",
    "    \"akreditasi\": akreditasi,\n",
    "})\n",
    "\n",
    "# Buat plot\n",
    "fig, ax = plt.subplots()\n",
    "colors = [\"pink\", \"blue\", \"green\", \"yellow\", \"purple\"]\n",
    "ax.bar(info_mahasiswa[\"fakultas\"], info_mahasiswa[\"jumlah_mahasiswa\"],\n",
    "       width=1, color=colors)\n",
    "ax.set_ylabel(\"Jumlah Mahasiswa\")\n",
    "ax.set_xlabel(\"Fakultas\")\n",
    "ax.set_title(\"Jumlah Mahasiswa per Fakultas\")\n",
    "\n",
    "# Tampilkan plot\n",
    "plt.show()"
   ]
  }
 ],
 "metadata": {
  "kernelspec": {
   "display_name": "Python 3",
   "language": "python",
   "name": "python3"
  },
  "language_info": {
   "codemirror_mode": {
    "name": "ipython",
    "version": 3
   },
   "file_extension": ".py",
   "mimetype": "text/x-python",
   "name": "python",
   "nbconvert_exporter": "python",
   "pygments_lexer": "ipython3",
   "version": "3.11.5"
  }
 },
 "nbformat": 4,
 "nbformat_minor": 2
}
